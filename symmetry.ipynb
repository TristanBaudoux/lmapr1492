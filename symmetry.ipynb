{
 "cells": [
  {
   "cell_type": "markdown",
   "id": "62613cd9",
   "metadata": {},
   "source": [
    "Tristan Baudoux  \n",
    "LMAPR1492 - tâche 6  \n",
    "07/03/22  \n",
    "Objectifs :\n",
    "- Télécharger le ﬁchier CIF du matériau qui nous a été attribué.\n",
    "- Etudier l’effet de 3 éléments de symétrie différents (pas l’identité) chacun pour 1 atome différent (équations et représentations)"
   ]
  },
  {
   "cell_type": "markdown",
   "id": "b5277bcb",
   "metadata": {},
   "source": [
    "## Imports :"
   ]
  },
  {
   "cell_type": "code",
   "execution_count": 20,
   "id": "90f20a59",
   "metadata": {},
   "outputs": [],
   "source": [
    "from pymatgen.ext.matproj import MPRester\n",
    "from pymatgen import Lattice, Structure\n",
    "from pymatgen.symmetry.analyzer import SpacegroupAnalyzer\n",
    "from pymatgen.io.cif import CifWriter\n",
    "from pymatgen.core.operations import SymmOp\n",
    "import numpy as np\n",
    "from jupyter_jsmol import JsmolView\n",
    "from jupyter_jsmol.pymatgen import quick_view\n",
    "from IPython.display import Image\n",
    "from ipywidgets import Layout, widgets, interact"
   ]
  },
  {
   "cell_type": "markdown",
   "id": "d3557c75",
   "metadata": {},
   "source": [
    "## Téléchargement du fichier CIF du matériau attribué :\n",
    "Repris de la tâche 4 et 5"
   ]
  },
  {
   "cell_type": "code",
   "execution_count": 21,
   "id": "0cf677f6",
   "metadata": {},
   "outputs": [],
   "source": [
    "with MPRester(\"DX9Ul1PoZnBi6AJt\") as m:\n",
    "\n",
    "    # Structure for material id\n",
    "    structure = m.get_structure_by_material_id(\"mp-866132\")\n",
    "    \n",
    "    w = CifWriter(structure,symprec=1e-5);\n",
    "    w.write_file('Na2TlSb.cif')\n",
    "    \n",
    "structure.to(filename=\"Na2TlSb.cif\")\n",
    "\n",
    "# Pour les étapes qui suivent,\n",
    "# je préfère travailler sur le fichier cif \"symmetrized\" que j'upload dans le dossier et ci-dessous je l'utilise :\n",
    "struct = Structure.from_file(\"Na2TlSb_mp-866132_symmetrized.cif\")\n",
    "\n",
    "#struct_V2 = Structure.from_file(\"Na2TlSb.cif\")"
   ]
  },
  {
   "cell_type": "code",
   "execution_count": 22,
   "id": "47f5d1df",
   "metadata": {},
   "outputs": [
    {
     "name": "stdout",
     "output_type": "stream",
     "text": [
      "Full Formula (Na8 Tl4 Sb4)\n",
      "Reduced Formula: Na2TlSb\n",
      "abc   :   7.619546   7.619546   7.619546\n",
      "angles:  90.000000  90.000000  90.000000\n",
      "Sites (16)\n",
      "  #  SP       a     b     c\n",
      "---  ----  ----  ----  ----\n",
      "  0  Na    0.25  0.25  0.25\n",
      "  1  Na    0.75  0.75  0.75\n",
      "  2  Na    0.75  0.25  0.25\n",
      "  3  Na    0.25  0.75  0.75\n",
      "  4  Na    0.75  0.75  0.25\n",
      "  5  Na    0.25  0.25  0.75\n",
      "  6  Na    0.25  0.75  0.25\n",
      "  7  Na    0.75  0.25  0.75\n",
      "  8  Tl    0     0     0\n",
      "  9  Tl    0.5   0.5   0\n",
      " 10  Tl    0.5   0     0.5\n",
      " 11  Tl    0     0.5   0.5\n",
      " 12  Sb    0     0     0.5\n",
      " 13  Sb    0.5   0     0\n",
      " 14  Sb    0     0.5   0\n",
      " 15  Sb    0.5   0.5   0.5\n"
     ]
    }
   ],
   "source": [
    "print(struct)"
   ]
  },
  {
   "cell_type": "markdown",
   "id": "04b380a1",
   "metadata": {},
   "source": [
    "## Atomes choisis :\n",
    "Il faut choisir 3 atomes sur lesquels on va effectuer les opérations de symétrie.  \n",
    "J'affiche ici leurs coordonnées cartésiennes. "
   ]
  },
  {
   "cell_type": "code",
   "execution_count": 43,
   "id": "f5b4dc99",
   "metadata": {},
   "outputs": [
    {
     "name": "stdout",
     "output_type": "stream",
     "text": [
      " Coordonnées de l'atome de Na choisi (#1 ?): [1.9048865 1.9048865 1.9048865] \n",
      " Coordonnées de l'atome de Tl choisi (#4 ?):  [6.12658225e-16 3.80977300e+00 3.80977300e+00] \n",
      " Coordonnées de l'atome de Sb choisi (#1 ?): [0.       0.       3.809773]\n"
     ]
    }
   ],
   "source": [
    "coords = struct.cart_coords\n",
    "#print(coords) #Affiche les coordonnées de tous les atomes du cif\n",
    "\n",
    "Na_1 = coords[0]\n",
    "Tl_1 = coords[11]\n",
    "Sb_1 = coords[12]\n",
    "print (\" Coordonnées de l'atome de Na choisi (#1 ?):\", Na_1, \"\\n Coordonnées de l'atome de Tl choisi (#4 ?): \",Tl_1, \n",
    "       \"\\n Coordonnées de l'atome de Sb choisi (#1 ?):\", Sb_1)\n",
    "\n",
    "\n",
    "#print(\"\\n\")\n",
    "#coords_V2 = struct_V2.cart_coords\n",
    "#print(\"Coordonnées du cif de base : \\n\")\n",
    "#print(coords_V2)\n",
    "#Seulement 4 atomes d'où la raison de prendre le cif symmetrized"
   ]
  },
  {
   "cell_type": "markdown",
   "id": "e243ec4e",
   "metadata": {},
   "source": [
    "## Premier élément de symétrie : la translation"
   ]
  },
  {
   "cell_type": "markdown",
   "id": "29622cd0",
   "metadata": {},
   "source": [
    "$$\n",
    "\\left(\\begin{array}{cc} \n",
    "1 & 0 & 0\\\\\n",
    "0 & 1 & 0\\\\\n",
    "0 & 0 & 1\\\\\n",
    "\\end{array}\\right)\n",
    "\\left(\\begin{array}{cc} \n",
    "x\\\\ \n",
    "y\\\\\n",
    "z\\\\\n",
    "\\end{array}\\right)\n",
    "+ \n",
    "\\left(\\begin{array}{cc} \n",
    "3.80977\\\\ \n",
    "0\\\\\n",
    "0\\\\\n",
    "\\end{array}\\right)\n",
    "= \n",
    "\\left(\\begin{array}{cc} \n",
    "x+3.80977 \\\\ \n",
    "y \\\\\n",
    "z \\\\\n",
    "\\end{array}\\right)\n",
    "$$"
   ]
  },
  {
   "cell_type": "code",
   "execution_count": 24,
   "id": "167e2700",
   "metadata": {
    "scrolled": false
   },
   "outputs": [
    {
     "name": "stdout",
     "output_type": "stream",
     "text": [
      "Symétrie 1 : Translation\n",
      "_______________________________\n",
      "\n",
      "La matrice de rotation associée à la symétrie 'x+3.80977, y, z' :\n",
      " [[1. 0. 0.]\n",
      " [0. 1. 0.]\n",
      " [0. 0. 1.]]\n",
      "Le vecteur de translation associé à la symétrie 'x+3.80977, y, z' :\n",
      " [3.80977 0.      0.     ] \n",
      "\n",
      "On applique la symétrie sur l'atome Na :\n",
      "Atome de départ :  [1.9048865 1.9048865 1.9048865]\n",
      "Atome d'arrivée :  [5.7146565 1.9048865 1.9048865]\n",
      "Nous avons ici effectué une translation le long de l'axe x.\n"
     ]
    }
   ],
   "source": [
    "Op1 = SymmOp.from_xyz_string('x+3.80977, y, z')\n",
    "sym1 = Op1.operate(Na_1)\n",
    "print(\"Symétrie 1 : Translation\")\n",
    "print('_______________________________\\n')\n",
    "print(\"La matrice de rotation associée à la symétrie 'x+3.80977, y, z' :\\n\",Op1.rotation_matrix)\n",
    "print(\"Le vecteur de translation associé à la symétrie 'x+3.80977, y, z' :\\n\", Op1.translation_vector,\"\\n\")\n",
    "print(\"On applique la symétrie sur l'atome Na :\")\n",
    "print(\"Atome de départ : \",str(Na_1) )\n",
    "print(\"Atome d'arrivée : \",str(sym1))\n",
    "print(\"Nous avons ici effectué une translation le long de l'axe x.\")"
   ]
  },
  {
   "cell_type": "code",
   "execution_count": 42,
   "id": "9707b041",
   "metadata": {},
   "outputs": [
    {
     "data": {
      "application/vnd.jupyter.widget-view+json": {
       "model_id": "843f11a4d073444293543551129e9a0b",
       "version_major": 2,
       "version_minor": 0
      },
      "text/plain": [
       "JsmolView(layout=Layout(align_self='stretch', height='400px'))"
      ]
     },
     "metadata": {},
     "output_type": "display_data"
    }
   ],
   "source": [
    "view1 = quick_view(struct, \"packed\", supercell=[1, 1, 1])\n",
    "display(view1)\n",
    "\n",
    "#Rien ne s'affiche sur mon ordi :/ Ai-je fais une erreur quelque part ? "
   ]
  },
  {
   "cell_type": "code",
   "execution_count": 37,
   "id": "a042816c",
   "metadata": {},
   "outputs": [],
   "source": [
    "view1.script(\"draw symop 1 {atomno=1}\")\n",
    "#Rien ne veut s'afficher ici non plus quand je met des valeurs plausibles et je ne suis pas sûr d'avoir compris comment déterminer\n",
    "#le numéro de l'atome que j'ai choisi et l'opération de symétrie effectuée :/ "
   ]
  },
  {
   "cell_type": "markdown",
   "id": "a281a7b9",
   "metadata": {},
   "source": [
    "## Deuxième élément de symétrie : le plan miroir\n"
   ]
  },
  {
   "cell_type": "markdown",
   "id": "d7fb4bd9",
   "metadata": {},
   "source": [
    "$$\n",
    "\\left(\\begin{array}{cc} \n",
    "0 & -1 & 0\\\\\n",
    "-1 & 0 & 0\\\\\n",
    "0 & 0 & -1\\\\\n",
    "\\end{array}\\right)\n",
    "\\left(\\begin{array}{cc} \n",
    "x\\\\ \n",
    "y\\\\\n",
    "z\\\\\n",
    "\\end{array}\\right)\n",
    "+ \n",
    "\\left(\\begin{array}{cc} \n",
    "0\\\\ \n",
    "0\\\\\n",
    "0\\\\\n",
    "\\end{array}\\right)\n",
    "= \n",
    "\\left(\\begin{array}{cc} \n",
    "-y \\\\ \n",
    "-x \\\\\n",
    "z \\\\\n",
    "\\end{array}\\right)\n",
    "$$"
   ]
  },
  {
   "cell_type": "code",
   "execution_count": 27,
   "id": "e17ca1ab",
   "metadata": {},
   "outputs": [
    {
     "name": "stdout",
     "output_type": "stream",
     "text": [
      "Symétrie 2 : Plan miroir\n",
      "_______________________________\n",
      "\n",
      "La matrice de rotation associée à la symétrie '-y, -x, z' :\n",
      " [[ 0. -1.  0.]\n",
      " [-1.  0.  0.]\n",
      " [ 0.  0.  1.]]\n",
      "Le vecteur de translation associé à la symétrie '-y, -x, z' :\n",
      " [0. 0. 0.] \n",
      "\n",
      "On applique la symétrie sur l'atome Tl :\n",
      "Atome de départ :  [6.12658225e-16 3.80977300e+00 3.80977300e+00]\n",
      "Atome d'arrivée :  [-3.80977300e+00 -6.12658225e-16  3.80977300e+00]\n",
      "\n"
     ]
    }
   ],
   "source": [
    "Op2 = SymmOp.from_xyz_string('-y, -x, z')\n",
    "sym2 = Op2.operate(Tl_1)\n",
    "print(\"Symétrie 2 : Plan miroir\")\n",
    "print('_______________________________\\n')\n",
    "print(\"La matrice de rotation associée à la symétrie '-y, -x, z' :\\n\",Op2.rotation_matrix)\n",
    "print(\"Le vecteur de translation associé à la symétrie '-y, -x, z' :\\n\", Op2.translation_vector,\"\\n\")\n",
    "print(\"On applique la symétrie sur l'atome Tl :\")\n",
    "print(\"Atome de départ : \",str(Tl_1) )\n",
    "print(\"Atome d'arrivée : \",str(sym2))\n",
    "print(\"\")"
   ]
  },
  {
   "cell_type": "code",
   "execution_count": 28,
   "id": "b0f39e65",
   "metadata": {},
   "outputs": [
    {
     "data": {
      "application/vnd.jupyter.widget-view+json": {
       "model_id": "9c1712c797de440684b7ba72ee93594f",
       "version_major": 2,
       "version_minor": 0
      },
      "text/plain": [
       "JsmolView(layout=Layout(align_self='stretch', height='400px'))"
      ]
     },
     "metadata": {},
     "output_type": "display_data"
    }
   ],
   "source": [
    "view2 = quick_view(struct, \"packed\", supercell = [1,1,1])\n",
    "display(view2)"
   ]
  },
  {
   "cell_type": "code",
   "execution_count": 29,
   "id": "9b4cdee4",
   "metadata": {},
   "outputs": [],
   "source": [
    "\n",
    "view2.script(\"draw symop ? {atomno=?}\")"
   ]
  },
  {
   "cell_type": "markdown",
   "id": "d37afe1d",
   "metadata": {},
   "source": [
    "## Troisième élément de symétrie : l'inversion"
   ]
  },
  {
   "cell_type": "markdown",
   "id": "b1d170c2",
   "metadata": {},
   "source": [
    "$$\n",
    "\\left(\\begin{array}{cc} \n",
    "-1 & 0 & 0\\\\\n",
    "0 & -1 & 0\\\\\n",
    "0 & 0 & -1\\\\\n",
    "\\end{array}\\right)\n",
    "\\left(\\begin{array}{cc} \n",
    "x\\\\ \n",
    "y\\\\\n",
    "z\\\\\n",
    "\\end{array}\\right)\n",
    "+ \n",
    "\\left(\\begin{array}{cc} \n",
    "0\\\\ \n",
    "0\\\\\n",
    "0\\\\\n",
    "\\end{array}\\right)\n",
    "= \n",
    "\\left(\\begin{array}{cc} \n",
    "-x \\\\ \n",
    "-y \\\\\n",
    "-z \\\\\n",
    "\\end{array}\\right)\n",
    "$$"
   ]
  },
  {
   "cell_type": "code",
   "execution_count": 31,
   "id": "7eb994ae",
   "metadata": {},
   "outputs": [
    {
     "name": "stdout",
     "output_type": "stream",
     "text": [
      "Symétrie 3 : Inversion\n",
      "_______________________________\n",
      "\n",
      "La matrice de rotation associée à la symétrie '-x, -y, -z' :\n",
      " [[-1.  0.  0.]\n",
      " [ 0. -1.  0.]\n",
      " [ 0.  0. -1.]]\n",
      "Le vecteur de translation associé à la symétrie '-x, -y, -z' :\n",
      " [0. 0. 0.] \n",
      "\n",
      "On applique la symétrie sur l'atome Sb :\n",
      "Atome de départ :  [0.       0.       3.809773]\n",
      "Atome d'arrivée :  [ 0.        0.       -3.809773]\n",
      "\n"
     ]
    }
   ],
   "source": [
    "Op3 = SymmOp.from_xyz_string('-x, -y, -z')\n",
    "sym3 = Op3.operate(Sb_1)\n",
    "print(\"Symétrie 3 : Inversion\")\n",
    "print('_______________________________\\n')\n",
    "print(\"La matrice de rotation associée à la symétrie '-x, -y, -z' :\\n\",Op3.rotation_matrix)\n",
    "print(\"Le vecteur de translation associé à la symétrie '-x, -y, -z' :\\n\", Op3.translation_vector,\"\\n\")\n",
    "print(\"On applique la symétrie sur l'atome Sb :\")\n",
    "print(\"Atome de départ : \",str(Sb_1) )\n",
    "print(\"Atome d'arrivée : \",str(sym3))\n",
    "print(\"\")"
   ]
  },
  {
   "cell_type": "code",
   "execution_count": 32,
   "id": "7aa77cac",
   "metadata": {},
   "outputs": [
    {
     "data": {
      "application/vnd.jupyter.widget-view+json": {
       "model_id": "86d2ef3e71dd46028a3b671c86a7b3cc",
       "version_major": 2,
       "version_minor": 0
      },
      "text/plain": [
       "JsmolView(layout=Layout(align_self='stretch', height='400px'))"
      ]
     },
     "metadata": {},
     "output_type": "display_data"
    }
   ],
   "source": [
    "view3 = quick_view(struct, \"packed\", supercell = [1,1,1])\n",
    "display(view3)"
   ]
  },
  {
   "cell_type": "code",
   "execution_count": 33,
   "id": "33bd59c8",
   "metadata": {},
   "outputs": [],
   "source": [
    "\n",
    "view3.script(\"draw symop ? {atomno=?}\")"
   ]
  }
 ],
 "metadata": {
  "kernelspec": {
   "display_name": "Python 3",
   "language": "python",
   "name": "python3"
  },
  "language_info": {
   "codemirror_mode": {
    "name": "ipython",
    "version": 3
   },
   "file_extension": ".py",
   "mimetype": "text/x-python",
   "name": "python",
   "nbconvert_exporter": "python",
   "pygments_lexer": "ipython3",
   "version": "3.6.8"
  }
 },
 "nbformat": 4,
 "nbformat_minor": 5
}
