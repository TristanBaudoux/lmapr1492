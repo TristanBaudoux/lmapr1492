{
 "cells": [
  {
   "cell_type": "markdown",
   "id": "8ede7858",
   "metadata": {},
   "source": [
    "Tristan Baudoux  \n",
    "LMAPR1492 - tâche 5  \n",
    "28/02/22  \n",
    "Objectifs :\n",
    "- Télécharger le ﬁchier CIF du matériau qui nous a été attribué.\n",
    "- Déterminer les vecteurs de bases des ses réseaux direct et réciproque, son type de maille, son système cristallin, ainsi que son groupe ponctuel.\n"
   ]
  },
  {
   "cell_type": "code",
   "execution_count": 6,
   "id": "e7470b5f",
   "metadata": {},
   "outputs": [],
   "source": [
    "# Imports : \n",
    "\n",
    "from pymatgen.ext.matproj import MPRester\n",
    "from pymatgen import Lattice, Structure\n",
    "from pymatgen.symmetry.analyzer import SpacegroupAnalyzer"
   ]
  },
  {
   "cell_type": "code",
   "execution_count": 7,
   "id": "7160ed6c",
   "metadata": {},
   "outputs": [],
   "source": [
    "# Téléchargement du fichier CIF du matériau attribué :\n",
    "\n",
    "with MPRester(\"DX9Ul1PoZnBi6AJt\") as m:\n",
    "\n",
    "    # Structure for material id\n",
    "    structure = m.get_structure_by_material_id(\"mp-866132\")\n",
    "    \n",
    "structure.to(filename=\"Na2TiSb.cif\")"
   ]
  },
  {
   "cell_type": "code",
   "execution_count": 12,
   "id": "8f3ae5b8",
   "metadata": {},
   "outputs": [
    {
     "name": "stdout",
     "output_type": "stream",
     "text": [
      "Vecteurs de base du réseau direct : \n",
      " 0.000000 3.809773 3.809773\n",
      "3.809773 0.000000 3.809773\n",
      "3.809773 3.809773 0.000000\n",
      "\n",
      "\n",
      "Vecteurs de base du réseau réciproque : \n",
      " -0.824614 0.824614 0.824614\n",
      "0.824614 -0.824614 0.824614\n",
      "0.824614 0.824614 -0.824614\n",
      "\n",
      "\n",
      "Type de maille :  cubic\n",
      "Système cristallin :  cubic\n",
      "Groupe ponctuel :  m-3m\n"
     ]
    }
   ],
   "source": [
    "struct = SpacegroupAnalyzer(structure)\n",
    "\n",
    "# vecteurs de base de ses réseaux direct et réciproque : \n",
    "reseau_direct = structure.lattice\n",
    "reseau_reciproque = structure.lattice.reciprocal_lattice\n",
    "\n",
    "# type de maille\n",
    "maille = struct.get_lattice_type()\n",
    "\n",
    "# système cristallin :\n",
    "systeme_c = struct.get_crystal_system()\n",
    "\n",
    "# groupe ponctuel : \n",
    "grpe_p = struct.get_point_group_symbol()\n",
    "\n",
    "# Affichage des résultats : \n",
    "print(\"Vecteurs de base du réseau direct : \\n\", reseau_direct)\n",
    "print(\"\\n\")\n",
    "print(\"Vecteurs de base du réseau réciproque : \\n\", reseau_reciproque)\n",
    "print(\"\\n\")\n",
    "print(\"Type de maille : \", maille)\n",
    "print(\"Système cristallin : \", systeme_c)\n",
    "print(\"Groupe ponctuel : \", grpe_p)\n",
    "\n"
   ]
  }
 ],
 "metadata": {
  "kernelspec": {
   "display_name": "Python 3",
   "language": "python",
   "name": "python3"
  },
  "language_info": {
   "codemirror_mode": {
    "name": "ipython",
    "version": 3
   },
   "file_extension": ".py",
   "mimetype": "text/x-python",
   "name": "python",
   "nbconvert_exporter": "python",
   "pygments_lexer": "ipython3",
   "version": "3.6.8"
  }
 },
 "nbformat": 4,
 "nbformat_minor": 5
}
