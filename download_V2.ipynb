{
 "cells": [
  {
   "cell_type": "markdown",
   "id": "9f1a3f0c",
   "metadata": {},
   "source": [
    "Jupyter notebook développé pour la tâche 4.\n",
    "Objectif : télécharger le fichier CIF du matériau fourni par le professeur depuis le MP sur base de l'API."
   ]
  },
  {
   "cell_type": "code",
   "execution_count": 2,
   "id": "770fdb60",
   "metadata": {},
   "outputs": [
    {
     "name": "stdout",
     "output_type": "stream",
     "text": [
      "Full Formula (Na2 Tl1 Sb1)\n",
      "Reduced Formula: Na2TlSb\n",
      "abc   :   5.387833   5.387833   5.387833\n",
      "angles:  60.000000  60.000000  60.000000\n",
      "Sites (4)\n",
      "  #  SP       a     b     c    magmom\n",
      "---  ----  ----  ----  ----  --------\n",
      "  0  Na    0.25  0.25  0.25        -0\n",
      "  1  Na    0.75  0.75  0.75        -0\n",
      "  2  Tl    0     0     0            0\n",
      "  3  Sb    0.5   0.5   0.5          0\n",
      "Complete DOS for Full Formula (Na2 Tl1 Sb1)\n",
      "Reduced Formula: Na2TlSb\n",
      "abc   :   5.387833   5.387833   5.387833\n",
      "angles:  60.000000  60.000000  60.000000\n",
      "Sites (4)\n",
      "  #  SP       a     b     c\n",
      "---  ----  ----  ----  ----\n",
      "  0  Na    0.25  0.25  0.25\n",
      "  1  Na    0.75  0.75  0.75\n",
      "  2  Tl    0     0     0\n",
      "  3  Sb    0.5   0.5   0.5\n",
      "<pymatgen.electronic_structure.bandstructure.BandStructureSymmLine object at 0x7f70ce90fa20>\n"
     ]
    }
   ],
   "source": [
    "from pymatgen.ext.matproj import MPRester\n",
    "with MPRester(\"DX9Ul1PoZnBi6AJt\") as m:\n",
    "\n",
    "    # Structure for material id\n",
    "    structure = m.get_structure_by_material_id(\"mp-866132\")\n",
    "\n",
    "    # Dos for material id\n",
    "    dos = m.get_dos_by_material_id(\"mp-866132\")\n",
    "\n",
    "    # Bandstructure for material id\n",
    "    bandstructure = m.get_bandstructure_by_material_id(\"mp-866132\")\n",
    "    \n",
    "    # To get a list of data for all entries having formula Na2TlSb\n",
    "    data = m.get_data(\"Na2TlSb\")\n",
    "\n",
    "    # To get the energies of all entries having formula Na2TlSb\n",
    "    #energies = m.get_data(\"Na2TlSb\", \"energy\")\n",
    "structure.to(filename=\"Na2TlSb.cif\")\n",
    "    \n",
    "print(structure)\n",
    "print(dos)\n",
    "print(bandstructure)\n",
    "#print(data)"
   ]
  },
  {
   "cell_type": "code",
   "execution_count": null,
   "id": "3cf29831",
   "metadata": {},
   "outputs": [],
   "source": []
  }
 ],
 "metadata": {
  "kernelspec": {
   "display_name": "Python 3",
   "language": "python",
   "name": "python3"
  },
  "language_info": {
   "codemirror_mode": {
    "name": "ipython",
    "version": 3
   },
   "file_extension": ".py",
   "mimetype": "text/x-python",
   "name": "python",
   "nbconvert_exporter": "python",
   "pygments_lexer": "ipython3",
   "version": "3.6.8"
  }
 },
 "nbformat": 4,
 "nbformat_minor": 5
}
