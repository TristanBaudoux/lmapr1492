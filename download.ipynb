{
 "cells": [
  {
   "cell_type": "markdown",
   "id": "9f1a3f0c",
   "metadata": {},
   "source": [
    "Jupyter notebook développé pour la tâche 4.\n",
    "Objectif : télécharger le fichier CIF du matériau fourni par le professeur depuis le MP sur base de l'API."
   ]
  },
  {
   "cell_type": "code",
   "execution_count": 10,
   "id": "770fdb60",
   "metadata": {},
   "outputs": [
    {
     "name": "stdout",
     "output_type": "stream",
     "text": [
      "Full Formula (Na2 Tl1 Sb1)\n",
      "Reduced Formula: Na2TlSb\n",
      "abc   :   5.387833   5.387833   5.387833\n",
      "angles:  60.000000  60.000000  60.000000\n",
      "Sites (4)\n",
      "  #  SP       a     b     c    magmom\n",
      "---  ----  ----  ----  ----  --------\n",
      "  0  Na    0.25  0.25  0.25        -0\n",
      "  1  Na    0.75  0.75  0.75        -0\n",
      "  2  Tl    0     0     0            0\n",
      "  3  Sb    0.5   0.5   0.5          0\n",
      "Complete DOS for Full Formula (Na2 Tl1 Sb1)\n",
      "Reduced Formula: Na2TlSb\n",
      "abc   :   5.387833   5.387833   5.387833\n",
      "angles:  60.000000  60.000000  60.000000\n",
      "Sites (4)\n",
      "  #  SP       a     b     c\n",
      "---  ----  ----  ----  ----\n",
      "  0  Na    0.25  0.25  0.25\n",
      "  1  Na    0.75  0.75  0.75\n",
      "  2  Tl    0     0     0\n",
      "  3  Sb    0.5   0.5   0.5\n",
      "<pymatgen.electronic_structure.bandstructure.BandStructureSymmLine object at 0x7fd118bd0f60>\n",
      "[{'energy': -10.39821105, 'energy_per_atom': -2.5995527625, 'volume': 110.59291224972954, 'formation_energy_per_atom': -0.3207781337500002, 'nsites': 4, 'unit_cell_formula': {'Na': 2.0, 'Tl': 1.0, 'Sb': 1.0}, 'pretty_formula': 'Na2TlSb', 'is_hubbard': False, 'elements': ['Na', 'Tl', 'Sb'], 'nelements': 3, 'e_above_hull': 0, 'hubbards': {}, 'is_compatible': True, 'spacegroup': {'symprec': 0.1, 'source': 'spglib', 'symbol': 'Fm-3m', 'number': 225, 'point_group': 'm-3m', 'crystal_system': 'cubic', 'hall': '-F 4 2 3'}, 'task_ids': ['mp-866591', 'mp-866132', 'mp-866446', 'mp-866558', 'mp-1142128', 'mp-1116620', 'mp-1431363', 'mp-1585307', 'mp-1760905'], 'band_gap': 0.4767000000000001, 'density': 5.587378959762188, 'icsd_id': None, 'icsd_ids': [], 'cif': \"# generated using pymatgen\\ndata_Na2TlSb\\n_symmetry_space_group_name_H-M   'P 1'\\n_cell_length_a   5.38783265\\n_cell_length_b   5.38783265\\n_cell_length_c   5.38783265\\n_cell_angle_alpha   60.00000000\\n_cell_angle_beta   60.00000000\\n_cell_angle_gamma   60.00000000\\n_symmetry_Int_Tables_number   1\\n_chemical_formula_structural   Na2TlSb\\n_chemical_formula_sum   'Na2 Tl1 Sb1'\\n_cell_volume   110.59291225\\n_cell_formula_units_Z   1\\nloop_\\n _symmetry_equiv_pos_site_id\\n _symmetry_equiv_pos_as_xyz\\n  1  'x, y, z'\\nloop_\\n _atom_site_type_symbol\\n _atom_site_label\\n _atom_site_symmetry_multiplicity\\n _atom_site_fract_x\\n _atom_site_fract_y\\n _atom_site_fract_z\\n _atom_site_occupancy\\n  Na  Na0  1  0.25000000  0.25000000  0.25000000  1\\n  Na  Na1  1  0.75000000  0.75000000  0.75000000  1\\n  Tl  Tl2  1  0.00000000  0.00000000  0.00000000  1\\n  Sb  Sb3  1  0.50000000  0.50000000  0.50000000  1\\n\", 'total_magnetization': 0.0008127, 'material_id': 'mp-866132', 'oxide_type': 'None', 'tags': [], 'elasticity': {'G_Reuss': 18.0, 'G_VRH': 19.0, 'G_Voigt': 19.0, 'G_Voigt_Reuss_Hill': 19.0, 'K_Reuss': 22.0, 'K_VRH': 22.0, 'K_Voigt': 22.0, 'K_Voigt_Reuss_Hill': 22.0, 'elastic_anisotropy': 0.16, 'elastic_tensor': [[42.0, 12.0, 12.0, 0.0, 0.0, 0.0], [12.0, 42.0, 12.0, 0.0, 0.0, 0.0], [12.0, 12.0, 42.0, 0.0, 0.0, 0.0], [0.0, 0.0, 0.0, 22.0, 0.0, 0.0], [0.0, 0.0, 0.0, 0.0, 22.0, 0.0], [0.0, 0.0, 0.0, 0.0, 0.0, 22.0]], 'homogeneous_poisson': 0.17, 'poisson_ratio': 0.17, 'universal_anisotropy': 0.16, 'elastic_tensor_original': [[42.27758263605099, 12.482846128116623, 12.482846128116623, 0.0, 0.0, 0.0], [12.43825966806255, 42.26759984969281, 12.43825966806255, 0.0, 0.0, 0.0], [12.439414967250354, 12.439414967250354, 42.26719957274179, 0.0, 0.0, 0.0], [8.973992609463082e-05, 4.5199962775728986e-05, 3.419997183475371e-06, 21.5291491562663, 0.0, 0.0], [-6.756327769140835e-05, -4.058329991028436e-05, -3.002997526866649e-05, 0.0, 21.528792566559975, 0.0], [1.4383321488399107e-05, -1.8779984533731072e-05, -3.5223304324724524e-05, 0.0, 0.0, 21.529146036268873]], 'compliance_tensor': [[27.3, -6.2, -6.2, -0.0, -0.0, 0.0], [-6.2, 27.3, -6.2, 0.0, -0.0, -0.0], [-6.2, -6.2, 27.3, -0.0, 0.0, -0.0], [-0.0, 0.0, -0.0, 46.4, -0.0, -0.0], [-0.0, -0.0, 0.0, -0.0, 46.4, -0.0], [0.0, -0.0, -0.0, -0.0, -0.0, 46.4]], 'warnings': [], 'nsites': 4}, 'piezo': None, 'diel': {'e_electronic': [[35.049240999999924, 0.0, 0.0], [0.0, 35.049240999999924, 0.0], [0.0, 0.0, 35.049240999999924]], 'e_total': [[180.6024500000001, 0.0, 0.0], [0.0, 180.6024500000001, 0.0], [0.0, 0.0, 180.6024500000001]], 'n': 5.920239944461704, 'poly_electronic': 35.049240999999924, 'poly_total': 180.6024500000001}, 'deprecated': False, 'full_formula': 'Na2Tl1Sb1'}]\n"
     ]
    }
   ],
   "source": [
    "from pymatgen.ext.matproj import MPRester\n",
    "with MPRester(\"DX9Ul1PoZnBi6AJt\") as m:\n",
    "\n",
    "    # Structure for material id\n",
    "    structure = m.get_structure_by_material_id(\"mp-866132\")\n",
    "\n",
    "    # Dos for material id\n",
    "    dos = m.get_dos_by_material_id(\"mp-866132\")\n",
    "\n",
    "    # Bandstructure for material id\n",
    "    bandstructure = m.get_bandstructure_by_material_id(\"mp-866132\")\n",
    "    \n",
    "    # To get a list of data for all entries having formula Na2TlSb\n",
    "    data = m.get_data(\"Na2TlSb\")\n",
    "\n",
    "    # To get the energies of all entries having formula Na2TlSb\n",
    "    #energies = m.get_data(\"Na2TlSb\", \"energy\")\n",
    "    \n",
    "print(structure)\n",
    "print(dos)\n",
    "print(bandstructure)\n",
    "print(data)"
   ]
  }
 ],
 "metadata": {
  "kernelspec": {
   "display_name": "Python 3",
   "language": "python",
   "name": "python3"
  },
  "language_info": {
   "codemirror_mode": {
    "name": "ipython",
    "version": 3
   },
   "file_extension": ".py",
   "mimetype": "text/x-python",
   "name": "python",
   "nbconvert_exporter": "python",
   "pygments_lexer": "ipython3",
   "version": "3.6.8"
  }
 },
 "nbformat": 4,
 "nbformat_minor": 5
}
